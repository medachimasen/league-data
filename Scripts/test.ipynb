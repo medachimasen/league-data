{
 "cells": [
  {
   "cell_type": "code",
   "execution_count": 1,
   "metadata": {},
   "outputs": [],
   "source": [
    "import numpy as np\n",
    "import pandas as pd"
   ]
  },
  {
   "cell_type": "code",
   "execution_count": 2,
   "metadata": {},
   "outputs": [],
   "source": [
    "path = '../Raw/LPL 2020 Summer - Player Stats - OraclesElixir.csv'"
   ]
  },
  {
   "cell_type": "code",
   "execution_count": 3,
   "metadata": {},
   "outputs": [],
   "source": [
    "df = pd.read_csv(path)"
   ]
  },
  {
   "cell_type": "code",
   "execution_count": 4,
   "metadata": {},
   "outputs": [
    {
     "ename": "AttributeError",
     "evalue": "'DataFrame' object has no attribute 'Pos'",
     "output_type": "error",
     "traceback": [
      "\u001b[0;31m---------------------------------------------------------------------------\u001b[0m",
      "\u001b[0;31mAttributeError\u001b[0m                            Traceback (most recent call last)",
      "\u001b[0;32m<ipython-input-4-9d0907fc2647>\u001b[0m in \u001b[0;36m<module>\u001b[0;34m\u001b[0m\n\u001b[0;32m----> 1\u001b[0;31m \u001b[0mdfmid\u001b[0m \u001b[0;34m=\u001b[0m \u001b[0mdf\u001b[0m\u001b[0;34m[\u001b[0m\u001b[0mdf\u001b[0m\u001b[0;34m.\u001b[0m\u001b[0mPos\u001b[0m \u001b[0;34m==\u001b[0m \u001b[0;34m'Middle'\u001b[0m\u001b[0;34m]\u001b[0m\u001b[0;34m.\u001b[0m\u001b[0mcopy\u001b[0m\u001b[0;34m(\u001b[0m\u001b[0;34m)\u001b[0m\u001b[0;34m\u001b[0m\u001b[0;34m\u001b[0m\u001b[0m\n\u001b[0m\u001b[1;32m      2\u001b[0m \u001b[0mdfjg\u001b[0m \u001b[0;34m=\u001b[0m \u001b[0mdf\u001b[0m\u001b[0;34m[\u001b[0m\u001b[0mdf\u001b[0m\u001b[0;34m.\u001b[0m\u001b[0mPos\u001b[0m \u001b[0;34m==\u001b[0m \u001b[0;34m'Jungle'\u001b[0m\u001b[0;34m]\u001b[0m\u001b[0;34m.\u001b[0m\u001b[0mcopy\u001b[0m\u001b[0;34m(\u001b[0m\u001b[0;34m)\u001b[0m\u001b[0;34m\u001b[0m\u001b[0;34m\u001b[0m\u001b[0m\n\u001b[1;32m      3\u001b[0m \u001b[0mdftop\u001b[0m \u001b[0;34m=\u001b[0m \u001b[0mdf\u001b[0m\u001b[0;34m[\u001b[0m\u001b[0mdf\u001b[0m\u001b[0;34m.\u001b[0m\u001b[0mPos\u001b[0m \u001b[0;34m==\u001b[0m \u001b[0;34m'Top'\u001b[0m\u001b[0;34m]\u001b[0m\u001b[0;34m.\u001b[0m\u001b[0mcopy\u001b[0m\u001b[0;34m(\u001b[0m\u001b[0;34m)\u001b[0m\u001b[0;34m\u001b[0m\u001b[0;34m\u001b[0m\u001b[0m\n\u001b[1;32m      4\u001b[0m \u001b[0mdfbot\u001b[0m \u001b[0;34m=\u001b[0m \u001b[0mdf\u001b[0m\u001b[0;34m[\u001b[0m\u001b[0mdf\u001b[0m\u001b[0;34m.\u001b[0m\u001b[0mPos\u001b[0m \u001b[0;34m==\u001b[0m \u001b[0;34m'ADC'\u001b[0m\u001b[0;34m]\u001b[0m\u001b[0;34m.\u001b[0m\u001b[0mcopy\u001b[0m\u001b[0;34m(\u001b[0m\u001b[0;34m)\u001b[0m\u001b[0;34m\u001b[0m\u001b[0;34m\u001b[0m\u001b[0m\n\u001b[1;32m      5\u001b[0m \u001b[0mdfsup\u001b[0m \u001b[0;34m=\u001b[0m \u001b[0mdf\u001b[0m\u001b[0;34m[\u001b[0m\u001b[0mdf\u001b[0m\u001b[0;34m.\u001b[0m\u001b[0mPos\u001b[0m \u001b[0;34m==\u001b[0m \u001b[0;34m'Support'\u001b[0m\u001b[0;34m]\u001b[0m\u001b[0;34m.\u001b[0m\u001b[0mcopy\u001b[0m\u001b[0;34m(\u001b[0m\u001b[0;34m)\u001b[0m\u001b[0;34m\u001b[0m\u001b[0;34m\u001b[0m\u001b[0m\n",
      "\u001b[0;32m~/.local/lib/python3.6/site-packages/pandas/core/generic.py\u001b[0m in \u001b[0;36m__getattr__\u001b[0;34m(self, name)\u001b[0m\n\u001b[1;32m   5272\u001b[0m             \u001b[0;32mif\u001b[0m \u001b[0mself\u001b[0m\u001b[0;34m.\u001b[0m\u001b[0m_info_axis\u001b[0m\u001b[0;34m.\u001b[0m\u001b[0m_can_hold_identifiers_and_holds_name\u001b[0m\u001b[0;34m(\u001b[0m\u001b[0mname\u001b[0m\u001b[0;34m)\u001b[0m\u001b[0;34m:\u001b[0m\u001b[0;34m\u001b[0m\u001b[0;34m\u001b[0m\u001b[0m\n\u001b[1;32m   5273\u001b[0m                 \u001b[0;32mreturn\u001b[0m \u001b[0mself\u001b[0m\u001b[0;34m[\u001b[0m\u001b[0mname\u001b[0m\u001b[0;34m]\u001b[0m\u001b[0;34m\u001b[0m\u001b[0;34m\u001b[0m\u001b[0m\n\u001b[0;32m-> 5274\u001b[0;31m             \u001b[0;32mreturn\u001b[0m \u001b[0mobject\u001b[0m\u001b[0;34m.\u001b[0m\u001b[0m__getattribute__\u001b[0m\u001b[0;34m(\u001b[0m\u001b[0mself\u001b[0m\u001b[0;34m,\u001b[0m \u001b[0mname\u001b[0m\u001b[0;34m)\u001b[0m\u001b[0;34m\u001b[0m\u001b[0;34m\u001b[0m\u001b[0m\n\u001b[0m\u001b[1;32m   5275\u001b[0m \u001b[0;34m\u001b[0m\u001b[0m\n\u001b[1;32m   5276\u001b[0m     \u001b[0;32mdef\u001b[0m \u001b[0m__setattr__\u001b[0m\u001b[0;34m(\u001b[0m\u001b[0mself\u001b[0m\u001b[0;34m,\u001b[0m \u001b[0mname\u001b[0m\u001b[0;34m:\u001b[0m \u001b[0mstr\u001b[0m\u001b[0;34m,\u001b[0m \u001b[0mvalue\u001b[0m\u001b[0;34m)\u001b[0m \u001b[0;34m->\u001b[0m \u001b[0;32mNone\u001b[0m\u001b[0;34m:\u001b[0m\u001b[0;34m\u001b[0m\u001b[0;34m\u001b[0m\u001b[0m\n",
      "\u001b[0;31mAttributeError\u001b[0m: 'DataFrame' object has no attribute 'Pos'"
     ]
    }
   ],
   "source": [
    "dfmid = df[df.Pos == 'Middle'].copy()\n",
    "dfjg = df[df.Pos == 'Jungle'].copy()\n",
    "dftop = df[df.Pos == 'Top'].copy()\n",
    "dfbot = df[df.Pos == 'ADC'].copy()\n",
    "dfsup = df[df.Pos == 'Support'].copy()"
   ]
  },
  {
   "cell_type": "code",
   "execution_count": 5,
   "metadata": {},
   "outputs": [],
   "source": [
    "def avgKDA( df ):\n",
    "    gamesplayed = df['GP'].sum()\n",
    "    df['Total KDA'] = df['GP'] * df['KDA']\n",
    "    allKD=df['Total KDA'].sum()\n",
    "    avgKDA = allKD/gamesplayed\n",
    "    print(avgKDA)\n",
    "def fil ( df, cat, val ):\n",
    "    return df[df[cat] == val]"
   ]
  },
  {
   "cell_type": "code",
   "execution_count": 6,
   "metadata": {},
   "outputs": [
    {
     "ename": "NameError",
     "evalue": "name 'dfmid' is not defined",
     "output_type": "error",
     "traceback": [
      "\u001b[0;31m---------------------------------------------------------------------------\u001b[0m",
      "\u001b[0;31mNameError\u001b[0m                                 Traceback (most recent call last)",
      "\u001b[0;32m<ipython-input-6-6ff1b121b4c9>\u001b[0m in \u001b[0;36m<module>\u001b[0;34m\u001b[0m\n\u001b[0;32m----> 1\u001b[0;31m \u001b[0mavgKDA\u001b[0m\u001b[0;34m(\u001b[0m\u001b[0mdfmid\u001b[0m\u001b[0;34m)\u001b[0m\u001b[0;34m\u001b[0m\u001b[0;34m\u001b[0m\u001b[0m\n\u001b[0m\u001b[1;32m      2\u001b[0m \u001b[0mavgKDA\u001b[0m\u001b[0;34m(\u001b[0m\u001b[0mdfjg\u001b[0m\u001b[0;34m)\u001b[0m\u001b[0;34m\u001b[0m\u001b[0;34m\u001b[0m\u001b[0m\n\u001b[1;32m      3\u001b[0m \u001b[0mavgKDA\u001b[0m\u001b[0;34m(\u001b[0m\u001b[0mdftop\u001b[0m\u001b[0;34m)\u001b[0m\u001b[0;34m\u001b[0m\u001b[0;34m\u001b[0m\u001b[0m\n\u001b[1;32m      4\u001b[0m \u001b[0mavgKDA\u001b[0m\u001b[0;34m(\u001b[0m\u001b[0mdfbot\u001b[0m\u001b[0;34m)\u001b[0m\u001b[0;34m\u001b[0m\u001b[0;34m\u001b[0m\u001b[0m\n\u001b[1;32m      5\u001b[0m \u001b[0mavgKDA\u001b[0m\u001b[0;34m(\u001b[0m\u001b[0mdfsup\u001b[0m\u001b[0;34m)\u001b[0m\u001b[0;34m\u001b[0m\u001b[0;34m\u001b[0m\u001b[0m\n",
      "\u001b[0;31mNameError\u001b[0m: name 'dfmid' is not defined"
     ]
    }
   ],
   "source": [
    "avgKDA(dfmid)\n",
    "avgKDA(dfjg)\n",
    "avgKDA(dftop)\n",
    "avgKDA(dfbot)\n",
    "avgKDA(dfsup)"
   ]
  },
  {
   "cell_type": "code",
   "execution_count": 7,
   "metadata": {},
   "outputs": [
    {
     "ename": "NameError",
     "evalue": "name 'dfjg' is not defined",
     "output_type": "error",
     "traceback": [
      "\u001b[0;31m---------------------------------------------------------------------------\u001b[0m",
      "\u001b[0;31mNameError\u001b[0m                                 Traceback (most recent call last)",
      "\u001b[0;32m<ipython-input-7-e3454217aba9>\u001b[0m in \u001b[0;36m<module>\u001b[0;34m\u001b[0m\n\u001b[0;32m----> 1\u001b[0;31m \u001b[0mdfjg\u001b[0m\u001b[0;34m[\u001b[0m\u001b[0;34m'totaldiff'\u001b[0m\u001b[0;34m]\u001b[0m \u001b[0;34m=\u001b[0m \u001b[0mdfjg\u001b[0m\u001b[0;34m[\u001b[0m\u001b[0;34m'GD10'\u001b[0m\u001b[0;34m]\u001b[0m \u001b[0;34m*\u001b[0m \u001b[0mdfjg\u001b[0m\u001b[0;34m[\u001b[0m\u001b[0;34m'GP'\u001b[0m\u001b[0;34m]\u001b[0m\u001b[0;34m\u001b[0m\u001b[0;34m\u001b[0m\u001b[0m\n\u001b[0m\u001b[1;32m      2\u001b[0m \u001b[0mprint\u001b[0m\u001b[0;34m(\u001b[0m\u001b[0mdfjg\u001b[0m\u001b[0;34m[\u001b[0m\u001b[0;34m'totaldiff'\u001b[0m\u001b[0;34m]\u001b[0m\u001b[0;34m.\u001b[0m\u001b[0msum\u001b[0m\u001b[0;34m(\u001b[0m\u001b[0;34m)\u001b[0m\u001b[0;34m)\u001b[0m\u001b[0;34m\u001b[0m\u001b[0;34m\u001b[0m\u001b[0m\n",
      "\u001b[0;31mNameError\u001b[0m: name 'dfjg' is not defined"
     ]
    }
   ],
   "source": [
    "dfjg['totaldiff'] = dfjg['GD10'] * dfjg['GP']\n",
    "print(dfjg['totaldiff'].sum())"
   ]
  },
  {
   "cell_type": "code",
   "execution_count": 8,
   "metadata": {},
   "outputs": [],
   "source": [
    "def golddiff10( df ):\n",
    "    print(df['golddiffat10'].sum())"
   ]
  },
  {
   "cell_type": "code",
   "execution_count": 9,
   "metadata": {},
   "outputs": [
    {
     "name": "stdout",
     "output_type": "stream",
     "text": [
      "0.0\n"
     ]
    }
   ],
   "source": [
    "df = pd.read_csv('../Raw/2020_LoL_esports.csv')\n",
    "dfLPL = df[df.league == 'LPL']\n",
    "dfLPLSummer = dfLPL[dfLPL.split == 'Summer']\n",
    "dfLPLSummerreg = dfLPLSummer[dfLPLSummer.playoffs == 0]\n",
    "dfLPLSummerpo = dfLPLSummer[dfLPLSummer.playoffs == 1]\n",
    "dfLPLjg = dfLPLSummer[dfLPLSummer.player == 'jng']\n",
    "golddiff10( dfLPLjg )"
   ]
  },
  {
   "cell_type": "code",
   "execution_count": 10,
   "metadata": {},
   "outputs": [
    {
     "name": "stdout",
     "output_type": "stream",
     "text": [
      "6.5625\n"
     ]
    }
   ],
   "source": [
    "dfLPLyagao = dfLPLSummerreg[dfLPLSummerreg.player == 'Yagao']\n",
    "yagaoKDA = (dfLPLyagao['kills'].sum()+dfLPLyagao['assists'].sum())/dfLPLyagao['deaths'].sum()\n",
    "print(yagaoKDA)"
   ]
  },
  {
   "cell_type": "code",
   "execution_count": 11,
   "metadata": {},
   "outputs": [
    {
     "name": "stdout",
     "output_type": "stream",
     "text": [
      "152\n",
      "268\n",
      "64\n"
     ]
    }
   ],
   "source": [
    "print(dfLPLyagao['kills'].sum())\n",
    "print(dfLPLyagao['assists'].sum())\n",
    "print(dfLPLyagao['deaths'].sum())"
   ]
  },
  {
   "cell_type": "code",
   "execution_count": 12,
   "metadata": {},
   "outputs": [
    {
     "name": "stdout",
     "output_type": "stream",
     "text": [
      "3.3923422903932647\n"
     ]
    }
   ],
   "source": [
    "avgKDA = (dfLPLSummerreg['kills'].sum()+dfLPLSummerreg['assists'].sum())/dfLPLSummerreg['deaths'].sum()\n",
    "print(avgKDA)"
   ]
  },
  {
   "cell_type": "code",
   "execution_count": 13,
   "metadata": {},
   "outputs": [
    {
     "data": {
      "text/plain": [
       "Twisted Fate    8\n",
       "LeBlanc         6\n",
       "Zoe             5\n",
       "Azir            4\n",
       "Syndra          3\n",
       "Qiyana          2\n",
       "Ekko            2\n",
       "Corki           2\n",
       "Galio           2\n",
       "Sylas           2\n",
       "Kassadin        1\n",
       "Orianna         1\n",
       "Lissandra       1\n",
       "Name: champion, dtype: int64"
      ]
     },
     "execution_count": 13,
     "metadata": {},
     "output_type": "execute_result"
    }
   ],
   "source": [
    "dfLPLyagao['champion'].value_counts()"
   ]
  },
  {
   "cell_type": "code",
   "execution_count": 14,
   "metadata": {},
   "outputs": [],
   "source": [
    "dfLPLknight = dfLPLSummerreg[dfLPLSummerreg.player == 'knight']"
   ]
  },
  {
   "cell_type": "code",
   "execution_count": 15,
   "metadata": {},
   "outputs": [
    {
     "data": {
      "text/plain": [
       "Orianna         6\n",
       "Syndra          6\n",
       "Sylas           4\n",
       "Ekko            3\n",
       "Karma           2\n",
       "Galio           2\n",
       "Azir            2\n",
       "Zoe             2\n",
       "Lissandra       1\n",
       "Jayce           1\n",
       "Sett            1\n",
       "Twisted Fate    1\n",
       "Cassiopeia      1\n",
       "Neeko           1\n",
       "Ryze            1\n",
       "Akali           1\n",
       "Diana           1\n",
       "Kassadin        1\n",
       "Name: champion, dtype: int64"
      ]
     },
     "execution_count": 15,
     "metadata": {},
     "output_type": "execute_result"
    }
   ],
   "source": [
    "dfLPLknight['champion'].value_counts()"
   ]
  },
  {
   "cell_type": "code",
   "execution_count": 16,
   "metadata": {},
   "outputs": [],
   "source": [
    "dfLPL369 = fil(dfLPLSummerreg, 'player', '369')"
   ]
  },
  {
   "cell_type": "code",
   "execution_count": 17,
   "metadata": {},
   "outputs": [
    {
     "data": {
      "text/plain": [
       "Renekton       7\n",
       "Ornn           5\n",
       "Mordekaiser    4\n",
       "Wukong         4\n",
       "Kennen         3\n",
       "Jayce          3\n",
       "Kayle          2\n",
       "Gangplank      2\n",
       "Maokai         2\n",
       "Jax            2\n",
       "Sion           1\n",
       "Aatrox         1\n",
       "Urgot          1\n",
       "Name: champion, dtype: int64"
      ]
     },
     "execution_count": 17,
     "metadata": {},
     "output_type": "execute_result"
    }
   ],
   "source": [
    "dfLPL369['champion'].value_counts()"
   ]
  },
  {
   "cell_type": "code",
   "execution_count": 18,
   "metadata": {},
   "outputs": [
    {
     "data": {
      "text/plain": [
       "494.7362435897434"
      ]
     },
     "execution_count": 18,
     "metadata": {},
     "output_type": "execute_result"
    }
   ],
   "source": [
    "dfLPLyagao['dpm'].mean()"
   ]
  },
  {
   "cell_type": "code",
   "execution_count": 19,
   "metadata": {},
   "outputs": [
    {
     "data": {
      "text/plain": [
       "576.1245270270269"
      ]
     },
     "execution_count": 19,
     "metadata": {},
     "output_type": "execute_result"
    }
   ],
   "source": [
    "dfLPLknight['dpm'].mean()"
   ]
  },
  {
   "cell_type": "code",
   "execution_count": 20,
   "metadata": {},
   "outputs": [],
   "source": [
    "dfLPLmid = fil(dfLPLSummerreg, 'position', 'mid')"
   ]
  },
  {
   "cell_type": "code",
   "execution_count": 21,
   "metadata": {},
   "outputs": [
    {
     "name": "stdout",
     "output_type": "stream",
     "text": [
      "Scout: 525.7585368421053\n",
      "Teacherma: 385.59566046511634\n",
      "Maple: 505.531075\n",
      "Angel: 523.897761904762\n",
      "Mole: 490.4521317073171\n",
      "Twila: 442.47399444444443\n",
      "icon: 492.4384634146341\n",
      "Xiaohu: 486.68537714285713\n",
      "Forge: 443.1559285714285\n",
      "FoFo: 560.4348564102564\n",
      "xiye: 466.46900999999997\n",
      "Fenfen: 441.26912105263165\n",
      "Doinb: 536.5277341463413\n",
      "Ruby: 544.2500611111112\n",
      "knight: 576.1245270270269\n",
      "Yagao: 494.7362435897434\n",
      "Rookie: 610.0220756097561\n",
      "Wuming: 391.2626388888889\n",
      "Zeka: 489.34664999999995\n",
      "Cryin: 376.05764999999997\n",
      "irma: 300.10445\n",
      "total avg dpm: 497.92714059701495\n",
      "\n",
      "\n",
      "\n",
      "Scout: 5823.8378378378375\n",
      "Teacherma: 5390.275\n",
      "Maple: 5413.588235294118\n",
      "Angel: 5390.238095238095\n",
      "Mole: 5636.923076923077\n",
      "Twila: 5405.64705882353\n",
      "icon: 5622.461538461538\n",
      "Xiaohu: 5821.15625\n",
      "Forge: 5505.857142857143\n",
      "FoFo: 5663.894736842105\n",
      "xiye: 5573.378378378378\n",
      "Fenfen: 5432.371428571429\n",
      "Doinb: 5626.615384615385\n",
      "Ruby: 5343.222222222223\n",
      "knight: 6041.848484848485\n",
      "Yagao: 5603.833333333333\n",
      "Rookie: 5576.5609756097565\n",
      "Wuming: 5239.75\n",
      "Zeka: 5492.666666666667\n",
      "Cryin: 5413.5\n",
      "irma: nan\n",
      "total avg gold15: 5572.506309148265\n"
     ]
    }
   ],
   "source": [
    "for x in dfLPLmid['player'].unique():\n",
    "    dftemp = fil(dfLPLmid, 'player', x)\n",
    "    print(x + ': ' + str(dftemp['dpm'].mean()))\n",
    "print('total avg dpm: ' + str(dfLPLmid['dpm'].mean()))\n",
    "print('\\n\\n')\n",
    "for x in dfLPLmid['player'].unique():\n",
    "    dftemp = fil(dfLPLmid, 'player', x)\n",
    "    print(x + ': ' + str(dftemp['goldat15'].mean()))\n",
    "print('total avg gold15: ' + str(dfLPLmid['goldat15'].mean()))"
   ]
  },
  {
   "cell_type": "code",
   "execution_count": 22,
   "metadata": {},
   "outputs": [
    {
     "data": {
      "text/html": [
       "<div>\n",
       "<style scoped>\n",
       "    .dataframe tbody tr th:only-of-type {\n",
       "        vertical-align: middle;\n",
       "    }\n",
       "\n",
       "    .dataframe tbody tr th {\n",
       "        vertical-align: top;\n",
       "    }\n",
       "\n",
       "    .dataframe thead th {\n",
       "        text-align: right;\n",
       "    }\n",
       "</style>\n",
       "<table border=\"1\" class=\"dataframe\">\n",
       "  <thead>\n",
       "    <tr style=\"text-align: right;\">\n",
       "      <th></th>\n",
       "      <th>gameid</th>\n",
       "      <th>datacompleteness</th>\n",
       "      <th>url</th>\n",
       "      <th>league</th>\n",
       "      <th>year</th>\n",
       "      <th>split</th>\n",
       "      <th>playoffs</th>\n",
       "      <th>date</th>\n",
       "      <th>game</th>\n",
       "      <th>patch</th>\n",
       "      <th>...</th>\n",
       "      <th>csdiffat10</th>\n",
       "      <th>goldat15</th>\n",
       "      <th>xpat15</th>\n",
       "      <th>csat15</th>\n",
       "      <th>opp_goldat15</th>\n",
       "      <th>opp_xpat15</th>\n",
       "      <th>opp_csat15</th>\n",
       "      <th>golddiffat15</th>\n",
       "      <th>xpdiffat15</th>\n",
       "      <th>csdiffat15</th>\n",
       "    </tr>\n",
       "  </thead>\n",
       "  <tbody>\n",
       "    <tr>\n",
       "      <th>30050</th>\n",
       "      <td>6200-7807</td>\n",
       "      <td>complete</td>\n",
       "      <td>https://lpl.qq.com/es/stats.shtml?bmid=6200</td>\n",
       "      <td>LPL</td>\n",
       "      <td>2020</td>\n",
       "      <td>Summer</td>\n",
       "      <td>0</td>\n",
       "      <td>2020-06-05 09:24:00</td>\n",
       "      <td>1</td>\n",
       "      <td>10.11</td>\n",
       "      <td>...</td>\n",
       "      <td>14.0</td>\n",
       "      <td>6132.0</td>\n",
       "      <td>8112.0</td>\n",
       "      <td>170.0</td>\n",
       "      <td>4943.0</td>\n",
       "      <td>6598.0</td>\n",
       "      <td>127.0</td>\n",
       "      <td>1189.0</td>\n",
       "      <td>1514.0</td>\n",
       "      <td>43.0</td>\n",
       "    </tr>\n",
       "    <tr>\n",
       "      <th>30055</th>\n",
       "      <td>6200-7807</td>\n",
       "      <td>complete</td>\n",
       "      <td>https://lpl.qq.com/es/stats.shtml?bmid=6200</td>\n",
       "      <td>LPL</td>\n",
       "      <td>2020</td>\n",
       "      <td>Summer</td>\n",
       "      <td>0</td>\n",
       "      <td>2020-06-05 09:24:00</td>\n",
       "      <td>1</td>\n",
       "      <td>10.11</td>\n",
       "      <td>...</td>\n",
       "      <td>-14.0</td>\n",
       "      <td>4943.0</td>\n",
       "      <td>6598.0</td>\n",
       "      <td>127.0</td>\n",
       "      <td>6132.0</td>\n",
       "      <td>8112.0</td>\n",
       "      <td>170.0</td>\n",
       "      <td>-1189.0</td>\n",
       "      <td>-1514.0</td>\n",
       "      <td>-43.0</td>\n",
       "    </tr>\n",
       "    <tr>\n",
       "      <th>30062</th>\n",
       "      <td>6200-7808</td>\n",
       "      <td>complete</td>\n",
       "      <td>https://lpl.qq.com/es/stats.shtml?bmid=6200</td>\n",
       "      <td>LPL</td>\n",
       "      <td>2020</td>\n",
       "      <td>Summer</td>\n",
       "      <td>0</td>\n",
       "      <td>2020-06-05 10:18:00</td>\n",
       "      <td>2</td>\n",
       "      <td>10.11</td>\n",
       "      <td>...</td>\n",
       "      <td>-9.0</td>\n",
       "      <td>6137.0</td>\n",
       "      <td>7264.0</td>\n",
       "      <td>126.0</td>\n",
       "      <td>5091.0</td>\n",
       "      <td>7367.0</td>\n",
       "      <td>140.0</td>\n",
       "      <td>1046.0</td>\n",
       "      <td>-103.0</td>\n",
       "      <td>-14.0</td>\n",
       "    </tr>\n",
       "    <tr>\n",
       "      <th>30067</th>\n",
       "      <td>6200-7808</td>\n",
       "      <td>complete</td>\n",
       "      <td>https://lpl.qq.com/es/stats.shtml?bmid=6200</td>\n",
       "      <td>LPL</td>\n",
       "      <td>2020</td>\n",
       "      <td>Summer</td>\n",
       "      <td>0</td>\n",
       "      <td>2020-06-05 10:18:00</td>\n",
       "      <td>2</td>\n",
       "      <td>10.11</td>\n",
       "      <td>...</td>\n",
       "      <td>9.0</td>\n",
       "      <td>5091.0</td>\n",
       "      <td>7367.0</td>\n",
       "      <td>140.0</td>\n",
       "      <td>6137.0</td>\n",
       "      <td>7264.0</td>\n",
       "      <td>126.0</td>\n",
       "      <td>-1046.0</td>\n",
       "      <td>103.0</td>\n",
       "      <td>14.0</td>\n",
       "    </tr>\n",
       "    <tr>\n",
       "      <th>30074</th>\n",
       "      <td>6200-7809</td>\n",
       "      <td>complete</td>\n",
       "      <td>https://lpl.qq.com/es/stats.shtml?bmid=6200</td>\n",
       "      <td>LPL</td>\n",
       "      <td>2020</td>\n",
       "      <td>Summer</td>\n",
       "      <td>0</td>\n",
       "      <td>2020-06-05 11:10:00</td>\n",
       "      <td>3</td>\n",
       "      <td>10.11</td>\n",
       "      <td>...</td>\n",
       "      <td>9.0</td>\n",
       "      <td>6010.0</td>\n",
       "      <td>6968.0</td>\n",
       "      <td>146.0</td>\n",
       "      <td>5951.0</td>\n",
       "      <td>7146.0</td>\n",
       "      <td>124.0</td>\n",
       "      <td>59.0</td>\n",
       "      <td>-178.0</td>\n",
       "      <td>22.0</td>\n",
       "    </tr>\n",
       "    <tr>\n",
       "      <th>...</th>\n",
       "      <td>...</td>\n",
       "      <td>...</td>\n",
       "      <td>...</td>\n",
       "      <td>...</td>\n",
       "      <td>...</td>\n",
       "      <td>...</td>\n",
       "      <td>...</td>\n",
       "      <td>...</td>\n",
       "      <td>...</td>\n",
       "      <td>...</td>\n",
       "      <td>...</td>\n",
       "      <td>...</td>\n",
       "      <td>...</td>\n",
       "      <td>...</td>\n",
       "      <td>...</td>\n",
       "      <td>...</td>\n",
       "      <td>...</td>\n",
       "      <td>...</td>\n",
       "      <td>...</td>\n",
       "      <td>...</td>\n",
       "      <td>...</td>\n",
       "    </tr>\n",
       "    <tr>\n",
       "      <th>58039</th>\n",
       "      <td>6660-8768</td>\n",
       "      <td>complete</td>\n",
       "      <td>https://lpl.qq.com/es/stats.shtml?bmid=6660</td>\n",
       "      <td>LPL</td>\n",
       "      <td>2020</td>\n",
       "      <td>Summer</td>\n",
       "      <td>0</td>\n",
       "      <td>2020-08-09 13:35:00</td>\n",
       "      <td>1</td>\n",
       "      <td>10.15</td>\n",
       "      <td>...</td>\n",
       "      <td>2.0</td>\n",
       "      <td>5334.0</td>\n",
       "      <td>6372.0</td>\n",
       "      <td>106.0</td>\n",
       "      <td>4783.0</td>\n",
       "      <td>5321.0</td>\n",
       "      <td>110.0</td>\n",
       "      <td>551.0</td>\n",
       "      <td>1051.0</td>\n",
       "      <td>-4.0</td>\n",
       "    </tr>\n",
       "    <tr>\n",
       "      <th>58082</th>\n",
       "      <td>6660-8769</td>\n",
       "      <td>complete</td>\n",
       "      <td>https://lpl.qq.com/es/stats.shtml?bmid=6660</td>\n",
       "      <td>LPL</td>\n",
       "      <td>2020</td>\n",
       "      <td>Summer</td>\n",
       "      <td>0</td>\n",
       "      <td>2020-08-09 14:27:00</td>\n",
       "      <td>2</td>\n",
       "      <td>10.15</td>\n",
       "      <td>...</td>\n",
       "      <td>-1.0</td>\n",
       "      <td>4892.0</td>\n",
       "      <td>4922.0</td>\n",
       "      <td>98.0</td>\n",
       "      <td>5162.0</td>\n",
       "      <td>5627.0</td>\n",
       "      <td>98.0</td>\n",
       "      <td>-270.0</td>\n",
       "      <td>-705.0</td>\n",
       "      <td>0.0</td>\n",
       "    </tr>\n",
       "    <tr>\n",
       "      <th>58087</th>\n",
       "      <td>6660-8769</td>\n",
       "      <td>complete</td>\n",
       "      <td>https://lpl.qq.com/es/stats.shtml?bmid=6660</td>\n",
       "      <td>LPL</td>\n",
       "      <td>2020</td>\n",
       "      <td>Summer</td>\n",
       "      <td>0</td>\n",
       "      <td>2020-08-09 14:27:00</td>\n",
       "      <td>2</td>\n",
       "      <td>10.15</td>\n",
       "      <td>...</td>\n",
       "      <td>1.0</td>\n",
       "      <td>5162.0</td>\n",
       "      <td>5627.0</td>\n",
       "      <td>98.0</td>\n",
       "      <td>4892.0</td>\n",
       "      <td>4922.0</td>\n",
       "      <td>98.0</td>\n",
       "      <td>270.0</td>\n",
       "      <td>705.0</td>\n",
       "      <td>0.0</td>\n",
       "    </tr>\n",
       "    <tr>\n",
       "      <th>58130</th>\n",
       "      <td>6660-8770</td>\n",
       "      <td>complete</td>\n",
       "      <td>https://lpl.qq.com/es/stats.shtml?bmid=6660</td>\n",
       "      <td>LPL</td>\n",
       "      <td>2020</td>\n",
       "      <td>Summer</td>\n",
       "      <td>0</td>\n",
       "      <td>2020-08-09 15:31:00</td>\n",
       "      <td>3</td>\n",
       "      <td>10.15</td>\n",
       "      <td>...</td>\n",
       "      <td>16.0</td>\n",
       "      <td>5370.0</td>\n",
       "      <td>6699.0</td>\n",
       "      <td>124.0</td>\n",
       "      <td>6778.0</td>\n",
       "      <td>5928.0</td>\n",
       "      <td>134.0</td>\n",
       "      <td>-1408.0</td>\n",
       "      <td>771.0</td>\n",
       "      <td>-10.0</td>\n",
       "    </tr>\n",
       "    <tr>\n",
       "      <th>58135</th>\n",
       "      <td>6660-8770</td>\n",
       "      <td>complete</td>\n",
       "      <td>https://lpl.qq.com/es/stats.shtml?bmid=6660</td>\n",
       "      <td>LPL</td>\n",
       "      <td>2020</td>\n",
       "      <td>Summer</td>\n",
       "      <td>0</td>\n",
       "      <td>2020-08-09 15:31:00</td>\n",
       "      <td>3</td>\n",
       "      <td>10.15</td>\n",
       "      <td>...</td>\n",
       "      <td>-16.0</td>\n",
       "      <td>6778.0</td>\n",
       "      <td>5928.0</td>\n",
       "      <td>134.0</td>\n",
       "      <td>5370.0</td>\n",
       "      <td>6699.0</td>\n",
       "      <td>124.0</td>\n",
       "      <td>1408.0</td>\n",
       "      <td>-771.0</td>\n",
       "      <td>10.0</td>\n",
       "    </tr>\n",
       "  </tbody>\n",
       "</table>\n",
       "<p>670 rows × 103 columns</p>\n",
       "</div>"
      ],
      "text/plain": [
       "          gameid datacompleteness  \\\n",
       "30050  6200-7807         complete   \n",
       "30055  6200-7807         complete   \n",
       "30062  6200-7808         complete   \n",
       "30067  6200-7808         complete   \n",
       "30074  6200-7809         complete   \n",
       "...          ...              ...   \n",
       "58039  6660-8768         complete   \n",
       "58082  6660-8769         complete   \n",
       "58087  6660-8769         complete   \n",
       "58130  6660-8770         complete   \n",
       "58135  6660-8770         complete   \n",
       "\n",
       "                                               url league  year   split  \\\n",
       "30050  https://lpl.qq.com/es/stats.shtml?bmid=6200    LPL  2020  Summer   \n",
       "30055  https://lpl.qq.com/es/stats.shtml?bmid=6200    LPL  2020  Summer   \n",
       "30062  https://lpl.qq.com/es/stats.shtml?bmid=6200    LPL  2020  Summer   \n",
       "30067  https://lpl.qq.com/es/stats.shtml?bmid=6200    LPL  2020  Summer   \n",
       "30074  https://lpl.qq.com/es/stats.shtml?bmid=6200    LPL  2020  Summer   \n",
       "...                                            ...    ...   ...     ...   \n",
       "58039  https://lpl.qq.com/es/stats.shtml?bmid=6660    LPL  2020  Summer   \n",
       "58082  https://lpl.qq.com/es/stats.shtml?bmid=6660    LPL  2020  Summer   \n",
       "58087  https://lpl.qq.com/es/stats.shtml?bmid=6660    LPL  2020  Summer   \n",
       "58130  https://lpl.qq.com/es/stats.shtml?bmid=6660    LPL  2020  Summer   \n",
       "58135  https://lpl.qq.com/es/stats.shtml?bmid=6660    LPL  2020  Summer   \n",
       "\n",
       "       playoffs                 date  game  patch  ...  csdiffat10 goldat15  \\\n",
       "30050         0  2020-06-05 09:24:00     1  10.11  ...        14.0   6132.0   \n",
       "30055         0  2020-06-05 09:24:00     1  10.11  ...       -14.0   4943.0   \n",
       "30062         0  2020-06-05 10:18:00     2  10.11  ...        -9.0   6137.0   \n",
       "30067         0  2020-06-05 10:18:00     2  10.11  ...         9.0   5091.0   \n",
       "30074         0  2020-06-05 11:10:00     3  10.11  ...         9.0   6010.0   \n",
       "...         ...                  ...   ...    ...  ...         ...      ...   \n",
       "58039         0  2020-08-09 13:35:00     1  10.15  ...         2.0   5334.0   \n",
       "58082         0  2020-08-09 14:27:00     2  10.15  ...        -1.0   4892.0   \n",
       "58087         0  2020-08-09 14:27:00     2  10.15  ...         1.0   5162.0   \n",
       "58130         0  2020-08-09 15:31:00     3  10.15  ...        16.0   5370.0   \n",
       "58135         0  2020-08-09 15:31:00     3  10.15  ...       -16.0   6778.0   \n",
       "\n",
       "       xpat15 csat15 opp_goldat15 opp_xpat15 opp_csat15 golddiffat15  \\\n",
       "30050  8112.0  170.0       4943.0     6598.0      127.0       1189.0   \n",
       "30055  6598.0  127.0       6132.0     8112.0      170.0      -1189.0   \n",
       "30062  7264.0  126.0       5091.0     7367.0      140.0       1046.0   \n",
       "30067  7367.0  140.0       6137.0     7264.0      126.0      -1046.0   \n",
       "30074  6968.0  146.0       5951.0     7146.0      124.0         59.0   \n",
       "...       ...    ...          ...        ...        ...          ...   \n",
       "58039  6372.0  106.0       4783.0     5321.0      110.0        551.0   \n",
       "58082  4922.0   98.0       5162.0     5627.0       98.0       -270.0   \n",
       "58087  5627.0   98.0       4892.0     4922.0       98.0        270.0   \n",
       "58130  6699.0  124.0       6778.0     5928.0      134.0      -1408.0   \n",
       "58135  5928.0  134.0       5370.0     6699.0      124.0       1408.0   \n",
       "\n",
       "      xpdiffat15 csdiffat15  \n",
       "30050     1514.0       43.0  \n",
       "30055    -1514.0      -43.0  \n",
       "30062     -103.0      -14.0  \n",
       "30067      103.0       14.0  \n",
       "30074     -178.0       22.0  \n",
       "...          ...        ...  \n",
       "58039     1051.0       -4.0  \n",
       "58082     -705.0        0.0  \n",
       "58087      705.0        0.0  \n",
       "58130      771.0      -10.0  \n",
       "58135     -771.0       10.0  \n",
       "\n",
       "[670 rows x 103 columns]"
      ]
     },
     "execution_count": 22,
     "metadata": {},
     "output_type": "execute_result"
    }
   ],
   "source": [
    "dfLPLmid"
   ]
  },
  {
   "cell_type": "code",
   "execution_count": null,
   "metadata": {},
   "outputs": [],
   "source": []
  },
  {
   "cell_type": "code",
   "execution_count": 23,
   "metadata": {},
   "outputs": [
    {
     "name": "stdout",
     "output_type": "stream",
     "text": [
      "EDward Gaming: 61847.26315789474\n",
      "Team WE: 62724.53488372093\n",
      "LNG Esports: 60459.25\n",
      "Suning: 66403.69047619047\n",
      "Victory Five: 52934.80487804878\n",
      "Dominus Esports: 56892.25\n",
      "Oh My God: 60521.170731707316\n",
      "Royal Never Give Up: 58510.38461538462\n",
      "Vici Gaming: 61769.87804878049\n",
      "Bilibili Gaming: 64821.1282051282\n",
      "LGD Gaming: 60913.025\n",
      "eStar: 59932.525\n",
      "FunPlus Phoenix: 63407.60975609756\n",
      "Rogue Warriors: 57937.52777777778\n",
      "Top Esports: 69737.08108108108\n",
      "JD Gaming: 64192.692307692305\n",
      "Invictus Gaming: 68036.68292682926\n",
      "Team Dmg Avg: 61862.27611940299\n"
     ]
    }
   ],
   "source": [
    "dfLPLteams = fil(dfLPLSummerreg, 'position', 'team')\n",
    "for team in dfLPLteams['team'].unique():\n",
    "    dftemp = fil(dfLPLteams, 'team', team)\n",
    "    print(team +': ' + str(dftemp['damagetochampions'].mean()))\n",
    "print('Team Dmg Avg: ' + str(dfLPLteams['damagetochampions'].mean()))"
   ]
  },
  {
   "cell_type": "code",
   "execution_count": 24,
   "metadata": {},
   "outputs": [
    {
     "name": "stdout",
     "output_type": "stream",
     "text": [
      "KeSPA: nan\n",
      "LPL: 32.17543378995434\n",
      "LFL: 34.23235294117647\n",
      "LEC: 33.39652777777778\n",
      "LCS.A: 33.281018518518515\n",
      "CBLOL: nan\n",
      "LCS: 34.63764988009593\n",
      "OPL: nan\n",
      "VCS: 31.517168674698794\n",
      "TCL: 31.70014880952381\n",
      "TRA: 31.72244224422442\n",
      "BRCC: nan\n",
      "LCK: 31.66177304964539\n",
      "CK: 33.422847682119205\n",
      "LJL: 32.736178861788616\n",
      "LLA: nan\n",
      "LCL: 30.098022598870056\n",
      "PCS: 33.24848484848485\n",
      "EM: 30.983150183150183\n",
      "LDL: 31.47805077805078\n",
      "OCS: nan\n",
      "Riot: nan\n",
      "MSC: nan\n",
      "WCS: nan\n",
      "\n",
      "\n",
      "\n",
      "KeSPA: nan\n",
      "LPL: 1727.8701875966954\n",
      "LFL: 2814.759347699476\n",
      "LEC: 1600.8309332868437\n",
      "LCS.A: 1637.5629328165376\n",
      "CBLOL: nan\n",
      "LCS: 2369.132452016726\n",
      "OPL: nan\n",
      "VCS: 1214.4603070893847\n",
      "TCL: 2116.1260076339954\n",
      "TRA: 1811.8021345418126\n",
      "BRCC: nan\n",
      "LCK: 1915.6378635696897\n",
      "CK: 1555.0577222356676\n",
      "LJL: 1974.3095316474642\n",
      "LLA: nan\n",
      "LCL: 1553.2017576898938\n",
      "PCS: 1396.7478972231827\n",
      "EM: 1704.0977880314902\n",
      "LDL: 1820.0771199763212\n",
      "OCS: nan\n",
      "Riot: nan\n",
      "MSC: nan\n",
      "WCS: nan\n"
     ]
    }
   ],
   "source": [
    "for league in df['league'].unique():\n",
    "    dftemp = fil(fil(fil(df, 'league', league),'position', 'team'), 'split', 'Summer')\n",
    "    print(league +\": \" + str(dftemp['gamelength'].mean()/60))\n",
    "print('\\n\\n')\n",
    "for league in df['league'].unique():\n",
    "    dftemp = fil(fil(fil(df, 'league', league),'position', 'team'), 'split', 'Summer')\n",
    "    print(league +\": \" + str(dftemp['gamelength'].var()/60))"
   ]
  },
  {
   "cell_type": "code",
   "execution_count": 25,
   "metadata": {},
   "outputs": [
    {
     "name": "stdout",
     "output_type": "stream",
     "text": [
      "SANDBOX Gaming: 32.1295918367347\n",
      "T1: 32.62148148148148\n",
      "DRX: 32.32875816993464\n",
      "Afreeca Freecs: 32.3741134751773\n",
      "Invictus Gaming: 29.888257575757574\n",
      "FunPlus Phoenix: 32.21925925925926\n",
      "LGD Gaming: 32.81203703703704\n",
      "LNG Esports: 31.33287037037037\n",
      "eStar: 32.010416666666664\n",
      "Rogue Warriors: 32.178703703703704\n",
      "Oh My God: 32.65772357723577\n",
      "JD Gaming: 32.053125\n",
      "Vici Gaming: 32.540650406504064\n",
      "Bilibili Gaming: 33.134188034188035\n",
      "Dominus Esports: 32.258796296296296\n",
      "Victory Five: 29.920748299319726\n",
      "EDward Gaming: 33.96491228070175\n",
      "Suning: 32.90737179487179\n",
      "Top Esports: 32.34185185185185\n",
      "Team WE: 32.85851063829787\n",
      "Royal Never Give Up: 32.08974358974359\n",
      "Misfits Premier: 33.134375\n",
      "IZI Dream: 32.026923076923076\n",
      "GameWard: 32.08571428571428\n",
      "Team MCES: 35.05416666666667\n",
      "Solary: 37.72179487179487\n",
      "GamersOrigin: 35.39791666666667\n",
      "Vitality.Bee: 34.955128205128204\n",
      "LDLC OL: 30.77698412698413\n",
      "G2 Esports: 32.93\n",
      "MAD Lions: 31.28045977011494\n",
      "SK Gaming: 33.09761904761905\n",
      "Team Vitality: 35.346296296296295\n",
      "Rogue: 33.65632183908046\n",
      "Misfits Gaming: 34.17037037037037\n",
      "Excel Esports: 32.8962962962963\n",
      "FC Schalke 04 Esports: 33.39733333333333\n",
      "Fnatic: 33.682758620689654\n",
      "Origen: 34.95740740740741\n",
      "Evil Geniuses Academy: 35.671527777777776\n",
      "Dignitas Academy: 31.810185185185183\n",
      "Cloud9 Academy: 32.126666666666665\n",
      "Team Liquid Academy: 33.288888888888884\n",
      "TSM Academy: 34.52066666666666\n",
      "Immortals Academy: 33.943518518518516\n",
      "FlyQuest Academy: 31.975\n",
      "CLG Academy: 32.41282051282051\n",
      "Golden Guardians Academy: 33.41231884057971\n",
      "100 Thieves Academy: 33.18412698412698\n",
      "paiN Gaming: nan\n",
      "Flamengo Esports: nan\n",
      "Prodigy Esports: nan\n",
      "Vivo Keyd: nan\n",
      "INTZ: nan\n",
      "Redemption eSports Porto Alegre: nan\n",
      "FURIA Esports: nan\n",
      "KaBuM! e-Sports: nan\n",
      "Cloud9: 31.595402298850573\n",
      "Team Liquid: 36.74193548387097\n",
      "Counter Logic Gaming: 34.81666666666667\n",
      "Dignitas: 33.77727272727273\n",
      "100 Thieves: 33.586507936507935\n",
      "Golden Guardians: 35.444252873563215\n",
      "Immortals: 34.99351851851852\n",
      "FlyQuest: 35.519369369369365\n",
      "Evil Geniuses: 34.33850574712643\n",
      "Team SoloMid: 34.796899224806204\n",
      "Avant Gaming: nan\n",
      "Legacy Esports: nan\n",
      "Gravitas: nan\n",
      "ORDER: nan\n",
      "Pentanet.GG: nan\n",
      "Chiefs Esports Club: nan\n",
      "MAMMOTH: nan\n",
      "Dire Wolves: nan\n",
      "Team Flash: 31.995486111111113\n",
      "EVOS Esports: 31.55040650406504\n",
      "GAM Esports: 31.689181286549704\n",
      "CERBERUS Esports: 33.44254385964912\n",
      "V Gaming Adonis: nan\n",
      "Saigon Buffalo: 30.88142857142857\n",
      "Royal Youth: 27.618518518518517\n",
      "Papara SuperMassive: 32.07055555555556\n",
      "Dark Passage: 31.858695652173914\n",
      "İstanbul Wildcats: 33.75797101449275\n",
      "1907 Fenerbahçe Esports: 32.114814814814814\n",
      "5 Ronin: 33.05520833333333\n",
      "Lowkey Esports.Vietnam: nan\n",
      "FTV Esports: nan\n",
      "Beşiktaş Esports: 31.42028985507246\n",
      "Galakticos: 31.06031746031746\n",
      "Team AURORA: 30.837962962962965\n",
      "Dark Passage Academy: 29.39423076923077\n",
      "İstanbul Wildcats Academy: 27.618666666666666\n",
      "1907 Fenerbahçe Academy: 35.13888888888889\n",
      "5 Ronin Academy: 31.110185185185184\n",
      "Beşiktaş Academy: 33.480555555555554\n",
      "Galakticos Academy: 33.157407407407405\n",
      "RED Canids: nan\n",
      "Havan Liberty Gaming: nan\n",
      "Santos e-Sports: nan\n",
      "Team oNe eSports: nan\n",
      "Falkol: nan\n",
      "Intergalaxy Tigers Gaming: nan\n",
      "Royal Youth Academy: 33.12348484848485\n",
      "SuperMassive Academy: 32.88611111111111\n",
      "Team AURORA Academy: 31.619047619047617\n",
      "DAMWON Gaming: 28.329761904761902\n",
      "KT Rolster: 32.990310077519375\n",
      "Gen.G: 30.97857142857143\n",
      "hyFresh Blade: 34.470952380952376\n",
      "Seorabeol Gaming: 30.26875\n",
      "SeolHaeOne Prince: 31.059349593495934\n",
      "OZ Gaming: 34.43211382113821\n",
      "Team Dynamics: 32.16840277777778\n",
      "Griffin: 33.712916666666665\n",
      "Element Mystic: 31.580729166666668\n",
      "Jin Air Green Wings: 32.947154471544714\n",
      "Asura: nan\n",
      "Spear Gaming: nan\n",
      "Hanwha Life Esports: 31.232142857142854\n",
      "DetonatioN FocusMe: 33.627604166666664\n",
      "V3 Esports: 32.8731884057971\n",
      "AXIZ: 32.14404761904762\n",
      "Burning Core: 33.997368421052634\n",
      "Crest Gaming Act: 31.881060606060604\n",
      "Fukuoka SoftBank Hawks gaming: 30.6\n",
      "Sengoku Gaming: 34.22142857142857\n",
      "Rascal Jester: 31.369047619047617\n",
      "Team Secret: 30.61111111111111\n",
      "Isurus: nan\n",
      "Infinity Esports: nan\n",
      "Furious Gaming: nan\n",
      "All Knights: nan\n",
      "Azules Esports: nan\n",
      "Pixel Esports Club: nan\n",
      "XTEN Esports: nan\n",
      "Rainbow7: nan\n",
      "Unicorns Of Love.CIS: 27.886842105263156\n",
      "Vega Squadron: 30.003846153846155\n",
      "Dragon Army: 31.070833333333333\n",
      "Gambit Esports: 29.416666666666668\n",
      "Elements Pro Gaming: 30.965384615384615\n",
      "CrowCrowd: 31.42222222222222\n",
      "RoX: 29.680555555555554\n",
      "M19: nan\n",
      "ahq eSports Club: 34.21397849462366\n",
      "J Team: 33.229166666666664\n",
      "Berjaya Dragons: 34.27708333333333\n",
      "Resurgence: 30.99814814814815\n",
      "Liyab Esports: 30.993518518518517\n",
      "Hong Kong Attitude: 33.853968253968254\n",
      "Machi Esports: 32.64351851851852\n",
      "Talon Esports: nan\n",
      "Nova Esports: 33.458641975308645\n",
      "Alpha Esports: 34.02638888888889\n",
      "Team GamerLegion: 32.105555555555554\n",
      "Vipers Inc: nan\n",
      "Defusekids: nan\n",
      "MAD Lions Madrid: nan\n",
      "Cyber Gaming: nan\n",
      "Intrepid Fox Gaming: 30.245555555555555\n",
      "PIGSPORTS: nan\n",
      "K1ck Neosurf: 32.56666666666667\n",
      "WLGaming Esports: 32.73888888888889\n",
      "Sector One: 30.17222222222222\n",
      "eSuba: 28.333333333333332\n",
      "ASUS ROG ELITE: nan\n",
      "Racoon: 31.39814814814815\n",
      "Electronik Generation: nan\n",
      "Kenty: nan\n",
      "For The Win Esports: nan\n",
      "Royal Club: 31.59858757062147\n",
      "Rogue Warriors Shark: 32.48469945355191\n",
      "Victorious Gaming: 29.785185185185185\n",
      "Joy Dream: 32.62131147540983\n",
      "Young Miracles: 31.886607142857144\n",
      "Dominus Esports Young: 30.86328125\n",
      "FunPlus Phoenix Blaze: 29.409848484848485\n",
      "eStar Young: 30.3\n",
      "Triumphant Song Gaming: nan\n",
      "Invictus Gaming Young: 31.786410256410257\n",
      "V5 87: 30.79398907103825\n",
      "WanZhen Esports Club: 32.57356321839081\n",
      "Suning-S: 32.46402116402116\n",
      "All Combo: 31.43307692307692\n",
      "LinGan e-Sports: 31.09406779661017\n",
      "Legend Esport Gaming: 31.361363636363638\n",
      "Vici Gaming Potential: 32.799751243781095\n",
      "Oh My Dream: 31.725956284153007\n",
      "Shu Dai Xiong Gaming: 31.949771689497716\n",
      "Team WE Academy: 32.68624338624338\n",
      "Bilibili Gaming Junior: 31.889367816091955\n",
      "EDG Youth Team: 32.92248677248677\n",
      "LGD Gaming Young Team: 32.008760683760684\n",
      "LNG Academy: 29.500877192982454\n",
      "Gama Dream: nan\n",
      "Movistar Riders: 33.46388888888889\n",
      "FC Schalke 04 Evolution: 31.494444444444447\n",
      "Team Singularity: nan\n",
      "SuppUp eSports: 28.944444444444446\n",
      "mousesports: 22.988888888888887\n",
      "Fnatic Rising: 28.772222222222222\n",
      "Vodafone Giants.Spain: 33.92777777777778\n",
      "AGO ROGUE: 29.630555555555553\n",
      "BT Excel: nan\n",
      "YDN Gamers: nan\n",
      "unknown team: 24.944444444444446\n",
      "Rensga eSports: nan\n",
      "Havan Liberty Academy: nan\n",
      "Chiefs Academy: nan\n",
      "UQ Union: nan\n",
      "Legacy Genesis: nan\n",
      "RMIT Redbacks: nan\n",
      "QUT Tigers: nan\n",
      "Dire Cubs: nan\n",
      "ORDER Academy: nan\n",
      "Gravitas Academy: nan\n",
      "UTS Esports: nan\n",
      "Mammoth Academy: nan\n",
      "RunAway: 33.54291666666667\n",
      "WhereAreyouFrom: 38.80833333333333\n",
      "Pentanet.GG Rise: nan\n",
      "Galatasaray Esports: 31.475\n",
      "Galatasaray Academy: 32.032407407407405\n",
      "optical spectrum E-sports: 31.230054644808742\n",
      "Top Esports Challenger: 31.025897435897434\n",
      "JingNetGame: 29.770833333333332\n",
      "Awesome Spear: 33.48243243243243\n",
      "ESC Shane: 33.10294117647059\n",
      "OverPower Esports: 29.648924731182795\n",
      "Percent Esports: 31.886036036036035\n",
      "PSG Talon: 33.60656565656566\n",
      "One Breath Gaming: 31.323333333333334\n",
      "Iron Wolves: 31.258333333333333\n",
      "SAMCLAN Esports Club: 31.64047619047619\n",
      "G2 Arctic: 32.33833333333333\n",
      "7more7 Pompa Team: 32.148809523809526\n",
      "Five Kings: 31.69375\n",
      "CR4ZY: 27.930555555555554\n",
      "LowLandLions: 27.52777777777778\n",
      "SINNERS Esports: 35.15833333333333\n",
      "Riddle Esports: 30.69047619047619\n",
      "EGN Esports: 25.805555555555554\n",
      "Samsung Morning Stars: 37.35\n",
      "Impunity: nan\n"
     ]
    }
   ],
   "source": [
    "for team in df['team'].unique():\n",
    "    dftemp = fil(fil(fil(df, 'team', team),'position', 'team'), 'split', 'Summer')\n",
    "    print(team +\": \" + str(dftemp['gamelength'].mean()/60))  "
   ]
  },
  {
   "cell_type": "code",
   "execution_count": 26,
   "metadata": {},
   "outputs": [
    {
     "data": {
      "text/plain": [
       "<matplotlib.axes._subplots.AxesSubplot at 0x7fe29eaf97f0>"
      ]
     },
     "execution_count": 26,
     "metadata": {},
     "output_type": "execute_result"
    },
    {
     "data": {
      "image/png": "[encoded data removed]",
      "text/plain": [
       "<Figure size 432x288 with 1 Axes>"
      ]
     },
     "metadata": {
      "needs_background": "light"
     },
     "output_type": "display_data"
    }
   ],
   "source": [
    "dfteams = fil(df, 'position', 'team')\n",
    "dfteams.plot.scatter(x='gamelength', y= 'ckpm')"
   ]
  },
  {
   "cell_type": "code",
   "execution_count": 27,
   "metadata": {},
   "outputs": [],
   "source": [
    "dfteams['team'].unique()\n",
    "worldsTeams = ['DRX', 'LGD Gaming', 'JD Gaming', 'Suning', 'Top Esports','G2 Esports', 'MAD Lions', 'Rogue', 'Fnatic', 'Team Liquid', 'Team SoloMid', 'DAMWON Gaming', 'Gen.G', 'FlyQuest', 'PSG Talon', 'Unicorns Of Love.CIS']"
   ]
  },
  {
   "cell_type": "code",
   "execution_count": 28,
   "metadata": {},
   "outputs": [
    {
     "data": {
      "text/plain": [
       "<matplotlib.axes._subplots.AxesSubplot at 0x7fe29e596eb8>"
      ]
     },
     "execution_count": 28,
     "metadata": {},
     "output_type": "execute_result"
    },
    {
     "data": {
      "image/png": "[encoded data removed]",
      "text/plain": [
       "<Figure size 432x288 with 1 Axes>"
      ]
     },
     "metadata": {
      "needs_background": "light"
     },
     "output_type": "display_data"
    }
   ],
   "source": [
    "dfWorlds = pd.DataFrame()\n",
    "for team in worldsTeams:\n",
    "    dfWorlds = dfWorlds.append(fil(df,'team', team))\n",
    "dfWorlds.plot.scatter(x='gamelength', y= 'ckpm')"
   ]
  },
  {
   "cell_type": "code",
   "execution_count": 29,
   "metadata": {},
   "outputs": [
    {
     "data": {
      "text/plain": [
       "pandas.core.series.Series"
      ]
     },
     "execution_count": 29,
     "metadata": {},
     "output_type": "execute_result"
    }
   ],
   "source": [
    "type (dfteams['team'])"
   ]
  },
  {
   "cell_type": "code",
   "execution_count": null,
   "metadata": {},
   "outputs": [],
   "source": []
  },
  {
   "cell_type": "code",
   "execution_count": null,
   "metadata": {},
   "outputs": [],
   "source": []
  }
 ],
 "metadata": {
  "kernelspec": {
   "display_name": "Python 3",
   "language": "python",
   "name": "python3"
  },
  "language_info": {
   "codemirror_mode": {
    "name": "ipython",
    "version": 3
   },
   "file_extension": ".py",
   "mimetype": "text/x-python",
   "name": "python",
   "nbconvert_exporter": "python",
   "pygments_lexer": "ipython3",
   "version": "3.6.9"
  }
 },
 "nbformat": 4,
 "nbformat_minor": 4
}
